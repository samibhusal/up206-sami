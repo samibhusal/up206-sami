{
 "cells": [
  {
   "cell_type": "markdown",
   "metadata": {},
   "source": [
    "1. Examining childcare data\n",
    "I start by importin a new module called geopandas to my notebook.\n"
   ]
  },
  {
   "cell_type": "code",
   "execution_count": 2,
   "metadata": {},
   "outputs": [],
   "source": [
    "import geopandas as gpd"
   ]
  },
  {
   "cell_type": "markdown",
   "metadata": {},
   "source": [
    "Next, I need to import data. Here, I have downloaded data on childcare and familychild care from Department of Social Services.\n",
    "https://www.ccld.dss.ca.gov/carefacilitysearch/DownloadData. The data is in csv format. \n",
    "But, I first want to know where my file is located. \n"
   ]
  },
  {
   "cell_type": "code",
   "execution_count": 3,
   "metadata": {},
   "outputs": [
    {
     "data": {
      "text/plain": [
       "'/home/jovyan/up206a/Weeks/Week02/Childcare data'"
      ]
     },
     "execution_count": 3,
     "metadata": {},
     "output_type": "execute_result"
    }
   ],
   "source": [
    "pwd"
   ]
  },
  {
   "cell_type": "markdown",
   "metadata": {},
   "source": [
    "Now I use relative path to point to where data for childcare is located using :/"
   ]
  },
  {
   "cell_type": "code",
   "execution_count": 4,
   "metadata": {},
   "outputs": [],
   "source": [
    "childcare = gpd.read_file('../Childcare data/childcarecenters.csv')"
   ]
  },
  {
   "cell_type": "markdown",
   "metadata": {},
   "source": [
    "Next, I want to know data type for childcare data. "
   ]
  },
  {
   "cell_type": "code",
   "execution_count": 5,
   "metadata": {},
   "outputs": [
    {
     "data": {
      "text/plain": [
       "geopandas.geodataframe.GeoDataFrame"
      ]
     },
     "execution_count": 5,
     "metadata": {},
     "output_type": "execute_result"
    }
   ],
   "source": [
    "type(childcare)"
   ]
  },
  {
   "cell_type": "markdown",
   "metadata": {},
   "source": [
    "But, what does my data actually even look like?"
   ]
  },
  {
   "cell_type": "code",
   "execution_count": 8,
   "metadata": {},
   "outputs": [
    {
     "data": {
      "text/html": [
       "<div>\n",
       "<style scoped>\n",
       "    .dataframe tbody tr th:only-of-type {\n",
       "        vertical-align: middle;\n",
       "    }\n",
       "\n",
       "    .dataframe tbody tr th {\n",
       "        vertical-align: top;\n",
       "    }\n",
       "\n",
       "    .dataframe thead th {\n",
       "        text-align: right;\n",
       "    }\n",
       "</style>\n",
       "<table border=\"1\" class=\"dataframe\">\n",
       "  <thead>\n",
       "    <tr style=\"text-align: right;\">\n",
       "      <th></th>\n",
       "      <th>Facility Type</th>\n",
       "      <th>Facility Number</th>\n",
       "      <th>Facility Name</th>\n",
       "      <th>Licensee</th>\n",
       "      <th>Facility Administrator</th>\n",
       "      <th>Facility Telephone Number</th>\n",
       "      <th>Facility Address</th>\n",
       "      <th>Facility City</th>\n",
       "      <th>Facility State</th>\n",
       "      <th>Facility Zip</th>\n",
       "      <th>...</th>\n",
       "      <th>POC Dates</th>\n",
       "      <th>All Visit Dates</th>\n",
       "      <th>Inspection Visit Dates</th>\n",
       "      <th>Inspect TypeA</th>\n",
       "      <th>Inspect TypeB</th>\n",
       "      <th>Other Visit Dates</th>\n",
       "      <th>Other TypeA</th>\n",
       "      <th>Other TypeB</th>\n",
       "      <th>Complaint Info- Date, #Sub Aleg, # Inc Aleg, # Uns Aleg, # TypeA, # TypeB ...</th>\n",
       "      <th>geometry</th>\n",
       "    </tr>\n",
       "  </thead>\n",
       "  <tbody>\n",
       "    <tr>\n",
       "      <th>0</th>\n",
       "      <td>DAY CARE CENTER</td>\n",
       "      <td>197416900</td>\n",
       "      <td>107TH. STREET ELEMENTARY SCHOOL CSPP/HEAD START</td>\n",
       "      <td>LAUSD EARLY CHILDHOOD EDUCATON</td>\n",
       "      <td>RIOS, REUBEN M.</td>\n",
       "      <td>(323) 756-8137</td>\n",
       "      <td>146 EAST 107TH. STREET ROOM K4</td>\n",
       "      <td>LOS ANGELES</td>\n",
       "      <td>CA</td>\n",
       "      <td>90003</td>\n",
       "      <td>...</td>\n",
       "      <td></td>\n",
       "      <td>03/26/2019, 03/26/2019, 05/06/2016</td>\n",
       "      <td>03/26/2019, 05/06/2016</td>\n",
       "      <td>0</td>\n",
       "      <td>0</td>\n",
       "      <td>03/26/2019</td>\n",
       "      <td>0</td>\n",
       "      <td>0</td>\n",
       "      <td>No Complaints</td>\n",
       "      <td>None</td>\n",
       "    </tr>\n",
       "    <tr>\n",
       "      <th>1</th>\n",
       "      <td>DAY CARE CENTER</td>\n",
       "      <td>191607790</td>\n",
       "      <td>10TH STREET PRESCHOOL</td>\n",
       "      <td>WASSON, CINDY LEE</td>\n",
       "      <td>WASSON, CINDY</td>\n",
       "      <td>(310) 458-4088</td>\n",
       "      <td>1444 10TH STREET</td>\n",
       "      <td>SANTA MONICA</td>\n",
       "      <td>CA</td>\n",
       "      <td>90401</td>\n",
       "      <td>...</td>\n",
       "      <td>08/29/2019</td>\n",
       "      <td>07/29/2019, 01/25/2018, 03/11/2016, 03/11/2016</td>\n",
       "      <td>07/29/2019, 01/25/2018</td>\n",
       "      <td>0</td>\n",
       "      <td>1</td>\n",
       "      <td></td>\n",
       "      <td>0</td>\n",
       "      <td>0</td>\n",
       "      <td>03/14/2016</td>\n",
       "      <td>None</td>\n",
       "    </tr>\n",
       "    <tr>\n",
       "      <th>2</th>\n",
       "      <td>DAY CARE CENTER</td>\n",
       "      <td>197416698</td>\n",
       "      <td>186TH STREET ELEMENTARY SCHOOL CSPP</td>\n",
       "      <td>LAUSD/EARLY CHILDHOOD EDUCATION</td>\n",
       "      <td>REED, MARCIA S.</td>\n",
       "      <td>(310) 324-1153</td>\n",
       "      <td>1581 WEST 186TH STREET ROOM 9</td>\n",
       "      <td>GARDENA</td>\n",
       "      <td>CA</td>\n",
       "      <td>90248</td>\n",
       "      <td>...</td>\n",
       "      <td></td>\n",
       "      <td>12/13/2016</td>\n",
       "      <td>12/13/2016</td>\n",
       "      <td>0</td>\n",
       "      <td>0</td>\n",
       "      <td></td>\n",
       "      <td>0</td>\n",
       "      <td>0</td>\n",
       "      <td>No Complaints</td>\n",
       "      <td>None</td>\n",
       "    </tr>\n",
       "    <tr>\n",
       "      <th>3</th>\n",
       "      <td>DAY CARE CENTER</td>\n",
       "      <td>197493820</td>\n",
       "      <td>1ST CLASS PREPARATORY PRESCHOOL</td>\n",
       "      <td>1ST CLASS PREPARATORY</td>\n",
       "      <td>MARRISCHIA DAVIS</td>\n",
       "      <td>(310) 925-6394</td>\n",
       "      <td>3459 MC MANUS</td>\n",
       "      <td>CULVER CITY</td>\n",
       "      <td>CA</td>\n",
       "      <td>90232</td>\n",
       "      <td>...</td>\n",
       "      <td></td>\n",
       "      <td>10/11/2018</td>\n",
       "      <td></td>\n",
       "      <td>0</td>\n",
       "      <td>0</td>\n",
       "      <td>10/11/2018</td>\n",
       "      <td>0</td>\n",
       "      <td>0</td>\n",
       "      <td>No Complaints</td>\n",
       "      <td>None</td>\n",
       "    </tr>\n",
       "    <tr>\n",
       "      <th>4</th>\n",
       "      <td>DAY CARE CENTER</td>\n",
       "      <td>384001195</td>\n",
       "      <td>1ST PLACE 2 START</td>\n",
       "      <td>1ST PLACE 2 START</td>\n",
       "      <td>SANDRA DAVIS</td>\n",
       "      <td>(415) 333-2659</td>\n",
       "      <td>1252 SUNNYDALE AVE</td>\n",
       "      <td>SAN FRANCISCO</td>\n",
       "      <td>CA</td>\n",
       "      <td>94134</td>\n",
       "      <td>...</td>\n",
       "      <td>08/17/2016, 08/17/2016</td>\n",
       "      <td>09/12/2019, 10/24/2017, 08/24/2016, 08/03/2016</td>\n",
       "      <td>09/12/2019, 10/24/2017, 08/03/2016</td>\n",
       "      <td>0</td>\n",
       "      <td>2</td>\n",
       "      <td>08/24/2016</td>\n",
       "      <td>0</td>\n",
       "      <td>0</td>\n",
       "      <td>No Complaints</td>\n",
       "      <td>None</td>\n",
       "    </tr>\n",
       "  </tbody>\n",
       "</table>\n",
       "<p>5 rows × 32 columns</p>\n",
       "</div>"
      ],
      "text/plain": [
       "     Facility Type Facility Number  \\\n",
       "0  DAY CARE CENTER       197416900   \n",
       "1  DAY CARE CENTER       191607790   \n",
       "2  DAY CARE CENTER       197416698   \n",
       "3  DAY CARE CENTER       197493820   \n",
       "4  DAY CARE CENTER       384001195   \n",
       "\n",
       "                                     Facility Name  \\\n",
       "0  107TH. STREET ELEMENTARY SCHOOL CSPP/HEAD START   \n",
       "1                            10TH STREET PRESCHOOL   \n",
       "2              186TH STREET ELEMENTARY SCHOOL CSPP   \n",
       "3                  1ST CLASS PREPARATORY PRESCHOOL   \n",
       "4                                1ST PLACE 2 START   \n",
       "\n",
       "                          Licensee Facility Administrator  \\\n",
       "0   LAUSD EARLY CHILDHOOD EDUCATON        RIOS, REUBEN M.   \n",
       "1                WASSON, CINDY LEE          WASSON, CINDY   \n",
       "2  LAUSD/EARLY CHILDHOOD EDUCATION        REED, MARCIA S.   \n",
       "3            1ST CLASS PREPARATORY       MARRISCHIA DAVIS   \n",
       "4                1ST PLACE 2 START           SANDRA DAVIS   \n",
       "\n",
       "  Facility Telephone Number                Facility Address  Facility City  \\\n",
       "0            (323) 756-8137  146 EAST 107TH. STREET ROOM K4    LOS ANGELES   \n",
       "1            (310) 458-4088                1444 10TH STREET   SANTA MONICA   \n",
       "2            (310) 324-1153   1581 WEST 186TH STREET ROOM 9        GARDENA   \n",
       "3            (310) 925-6394                   3459 MC MANUS    CULVER CITY   \n",
       "4            (415) 333-2659              1252 SUNNYDALE AVE  SAN FRANCISCO   \n",
       "\n",
       "  Facility State Facility Zip  ...               POC Dates  \\\n",
       "0             CA        90003  ...                           \n",
       "1             CA        90401  ...              08/29/2019   \n",
       "2             CA        90248  ...                           \n",
       "3             CA        90232  ...                           \n",
       "4             CA        94134  ...  08/17/2016, 08/17/2016   \n",
       "\n",
       "                                  All Visit Dates  \\\n",
       "0              03/26/2019, 03/26/2019, 05/06/2016   \n",
       "1  07/29/2019, 01/25/2018, 03/11/2016, 03/11/2016   \n",
       "2                                      12/13/2016   \n",
       "3                                      10/11/2018   \n",
       "4  09/12/2019, 10/24/2017, 08/24/2016, 08/03/2016   \n",
       "\n",
       "               Inspection Visit Dates Inspect TypeA Inspect TypeB  \\\n",
       "0              03/26/2019, 05/06/2016             0             0   \n",
       "1              07/29/2019, 01/25/2018             0             1   \n",
       "2                          12/13/2016             0             0   \n",
       "3                                                 0             0   \n",
       "4  09/12/2019, 10/24/2017, 08/03/2016             0             2   \n",
       "\n",
       "  Other Visit Dates Other TypeA Other TypeB  \\\n",
       "0        03/26/2019           0           0   \n",
       "1                             0           0   \n",
       "2                             0           0   \n",
       "3        10/11/2018           0           0   \n",
       "4        08/24/2016           0           0   \n",
       "\n",
       "  Complaint Info- Date, #Sub Aleg, # Inc Aleg, # Uns Aleg, # TypeA, # TypeB ...  \\\n",
       "0                                      No Complaints                              \n",
       "1                                         03/14/2016                              \n",
       "2                                      No Complaints                              \n",
       "3                                      No Complaints                              \n",
       "4                                      No Complaints                              \n",
       "\n",
       "  geometry  \n",
       "0     None  \n",
       "1     None  \n",
       "2     None  \n",
       "3     None  \n",
       "4     None  \n",
       "\n",
       "[5 rows x 32 columns]"
      ]
     },
     "execution_count": 8,
     "metadata": {},
     "output_type": "execute_result"
    }
   ],
   "source": [
    "childcare.head()"
   ]
  },
  {
   "cell_type": "markdown",
   "metadata": {},
   "source": [
    "Let's see a sample of our dataset"
   ]
  },
  {
   "cell_type": "code",
   "execution_count": 9,
   "metadata": {},
   "outputs": [
    {
     "data": {
      "text/html": [
       "<div>\n",
       "<style scoped>\n",
       "    .dataframe tbody tr th:only-of-type {\n",
       "        vertical-align: middle;\n",
       "    }\n",
       "\n",
       "    .dataframe tbody tr th {\n",
       "        vertical-align: top;\n",
       "    }\n",
       "\n",
       "    .dataframe thead th {\n",
       "        text-align: right;\n",
       "    }\n",
       "</style>\n",
       "<table border=\"1\" class=\"dataframe\">\n",
       "  <thead>\n",
       "    <tr style=\"text-align: right;\">\n",
       "      <th></th>\n",
       "      <th>Facility Type</th>\n",
       "      <th>Facility Number</th>\n",
       "      <th>Facility Name</th>\n",
       "      <th>Licensee</th>\n",
       "      <th>Facility Administrator</th>\n",
       "      <th>Facility Telephone Number</th>\n",
       "      <th>Facility Address</th>\n",
       "      <th>Facility City</th>\n",
       "      <th>Facility State</th>\n",
       "      <th>Facility Zip</th>\n",
       "      <th>...</th>\n",
       "      <th>POC Dates</th>\n",
       "      <th>All Visit Dates</th>\n",
       "      <th>Inspection Visit Dates</th>\n",
       "      <th>Inspect TypeA</th>\n",
       "      <th>Inspect TypeB</th>\n",
       "      <th>Other Visit Dates</th>\n",
       "      <th>Other TypeA</th>\n",
       "      <th>Other TypeB</th>\n",
       "      <th>Complaint Info- Date, #Sub Aleg, # Inc Aleg, # Uns Aleg, # TypeA, # TypeB ...</th>\n",
       "      <th>geometry</th>\n",
       "    </tr>\n",
       "  </thead>\n",
       "  <tbody>\n",
       "    <tr>\n",
       "      <th>8464</th>\n",
       "      <td>DAY CARE CENTER</td>\n",
       "      <td>343622733</td>\n",
       "      <td>NICHOLS PRESCHOOL</td>\n",
       "      <td>LODI UNIFIED SCHOOL DISTRICT</td>\n",
       "      <td>LOPEZ, MARY LISA</td>\n",
       "      <td>(209) 331-7378</td>\n",
       "      <td>1301 SOUTH CRESCENT AVENUE</td>\n",
       "      <td>LODI</td>\n",
       "      <td>CA</td>\n",
       "      <td>95240</td>\n",
       "      <td>...</td>\n",
       "      <td></td>\n",
       "      <td>12/20/2019, 10/09/2018</td>\n",
       "      <td>12/20/2019</td>\n",
       "      <td>0</td>\n",
       "      <td>0</td>\n",
       "      <td>10/09/2018</td>\n",
       "      <td>0</td>\n",
       "      <td>0</td>\n",
       "      <td>No Complaints</td>\n",
       "      <td>None</td>\n",
       "    </tr>\n",
       "  </tbody>\n",
       "</table>\n",
       "<p>1 rows × 32 columns</p>\n",
       "</div>"
      ],
      "text/plain": [
       "        Facility Type Facility Number      Facility Name  \\\n",
       "8464  DAY CARE CENTER       343622733  NICHOLS PRESCHOOL   \n",
       "\n",
       "                          Licensee Facility Administrator  \\\n",
       "8464  LODI UNIFIED SCHOOL DISTRICT       LOPEZ, MARY LISA   \n",
       "\n",
       "     Facility Telephone Number            Facility Address Facility City  \\\n",
       "8464            (209) 331-7378  1301 SOUTH CRESCENT AVENUE          LODI   \n",
       "\n",
       "     Facility State Facility Zip  ... POC Dates         All Visit Dates  \\\n",
       "8464             CA        95240  ...            12/20/2019, 10/09/2018   \n",
       "\n",
       "     Inspection Visit Dates Inspect TypeA Inspect TypeB Other Visit Dates  \\\n",
       "8464             12/20/2019             0             0        10/09/2018   \n",
       "\n",
       "     Other TypeA Other TypeB  \\\n",
       "8464           0           0   \n",
       "\n",
       "     Complaint Info- Date, #Sub Aleg, # Inc Aleg, # Uns Aleg, # TypeA, # TypeB ...  \\\n",
       "8464                                      No Complaints                              \n",
       "\n",
       "     geometry  \n",
       "8464     None  \n",
       "\n",
       "[1 rows x 32 columns]"
      ]
     },
     "execution_count": 9,
     "metadata": {},
     "output_type": "execute_result"
    }
   ],
   "source": [
    "childcare.sample()"
   ]
  },
  {
   "cell_type": "markdown",
   "metadata": {},
   "source": [
    "Now that I know what variables are in this dataset, let's see what data types I have."
   ]
  },
  {
   "cell_type": "code",
   "execution_count": 10,
   "metadata": {},
   "outputs": [
    {
     "data": {
      "text/plain": [
       "Facility Type                                                                      object\n",
       "Facility Number                                                                    object\n",
       "Facility Name                                                                      object\n",
       "Licensee                                                                           object\n",
       "Facility Administrator                                                             object\n",
       "Facility Telephone Number                                                          object\n",
       "Facility Address                                                                   object\n",
       "Facility City                                                                      object\n",
       "Facility State                                                                     object\n",
       "Facility Zip                                                                       object\n",
       "County Name                                                                        object\n",
       "Regional Office                                                                    object\n",
       "Facility Capacity                                                                  object\n",
       "Facility Status                                                                    object\n",
       "License First Date                                                                 object\n",
       "Closed Date                                                                        object\n",
       "Last Visit Date                                                                    object\n",
       "Inspection Visits                                                                  object\n",
       "Complaint Visits                                                                   object\n",
       "Other Visits                                                                       object\n",
       "Total Visits                                                                       object\n",
       "Citation Numbers                                                                   object\n",
       "POC Dates                                                                          object\n",
       "All Visit Dates                                                                    object\n",
       "Inspection Visit Dates                                                             object\n",
       "Inspect TypeA                                                                      object\n",
       "Inspect TypeB                                                                      object\n",
       "Other Visit Dates                                                                  object\n",
       "Other TypeA                                                                        object\n",
       "Other TypeB                                                                        object\n",
       "Complaint Info- Date, #Sub Aleg, # Inc Aleg, # Uns Aleg, # TypeA, # TypeB ...      object\n",
       "geometry                                                                         geometry\n",
       "dtype: object"
      ]
     },
     "execution_count": 10,
     "metadata": {},
     "output_type": "execute_result"
    }
   ],
   "source": [
    "childcare.dtypes"
   ]
  },
  {
   "cell_type": "markdown",
   "metadata": {},
   "source": [
    "There def was an even better command to get this info. It is the info command"
   ]
  },
  {
   "cell_type": "code",
   "execution_count": 11,
   "metadata": {},
   "outputs": [
    {
     "name": "stdout",
     "output_type": "stream",
     "text": [
      "<class 'geopandas.geodataframe.GeoDataFrame'>\n",
      "RangeIndex: 19005 entries, 0 to 19004\n",
      "Data columns (total 32 columns):\n",
      " #   Column                                                                         Non-Null Count  Dtype   \n",
      "---  ------                                                                         --------------  -----   \n",
      " 0   Facility Type                                                                  19005 non-null  object  \n",
      " 1   Facility Number                                                                19005 non-null  object  \n",
      " 2   Facility Name                                                                  19005 non-null  object  \n",
      " 3   Licensee                                                                       19005 non-null  object  \n",
      " 4   Facility Administrator                                                         19005 non-null  object  \n",
      " 5   Facility Telephone Number                                                      19005 non-null  object  \n",
      " 6   Facility Address                                                               19005 non-null  object  \n",
      " 7   Facility City                                                                  19005 non-null  object  \n",
      " 8   Facility State                                                                 19005 non-null  object  \n",
      " 9   Facility Zip                                                                   19005 non-null  object  \n",
      " 10  County Name                                                                    19005 non-null  object  \n",
      " 11  Regional Office                                                                19005 non-null  object  \n",
      " 12  Facility Capacity                                                              19005 non-null  object  \n",
      " 13  Facility Status                                                                19005 non-null  object  \n",
      " 14  License First Date                                                             19005 non-null  object  \n",
      " 15  Closed Date                                                                    19005 non-null  object  \n",
      " 16  Last Visit Date                                                                19005 non-null  object  \n",
      " 17  Inspection Visits                                                              19005 non-null  object  \n",
      " 18  Complaint Visits                                                               19005 non-null  object  \n",
      " 19  Other Visits                                                                   19005 non-null  object  \n",
      " 20  Total Visits                                                                   19005 non-null  object  \n",
      " 21  Citation Numbers                                                               19005 non-null  object  \n",
      " 22  POC Dates                                                                      19005 non-null  object  \n",
      " 23  All Visit Dates                                                                19005 non-null  object  \n",
      " 24  Inspection Visit Dates                                                         19005 non-null  object  \n",
      " 25  Inspect TypeA                                                                  19005 non-null  object  \n",
      " 26  Inspect TypeB                                                                  19005 non-null  object  \n",
      " 27  Other Visit Dates                                                              19005 non-null  object  \n",
      " 28  Other TypeA                                                                    19005 non-null  object  \n",
      " 29  Other TypeB                                                                    19005 non-null  object  \n",
      " 30  Complaint Info- Date, #Sub Aleg, # Inc Aleg, # Uns Aleg, # TypeA, # TypeB ...  19005 non-null  object  \n",
      " 31  geometry                                                                       0 non-null      geometry\n",
      "dtypes: geometry(1), object(31)\n",
      "memory usage: 4.6+ MB\n"
     ]
    }
   ],
   "source": [
    "childcare.info()"
   ]
  },
  {
   "cell_type": "markdown",
   "metadata": {},
   "source": [
    "So, most of our data type is object, aka string. That's a pretty big dataset. But, how big. How many rows and columns are there?"
   ]
  },
  {
   "cell_type": "code",
   "execution_count": 12,
   "metadata": {},
   "outputs": [
    {
     "data": {
      "text/plain": [
       "(19005, 32)"
      ]
     },
     "execution_count": 12,
     "metadata": {},
     "output_type": "execute_result"
    }
   ],
   "source": [
    "childcare.shape"
   ]
  },
  {
   "cell_type": "markdown",
   "metadata": {},
   "source": [
    "32 columns! 19,005 rows. But, that's too many columns. I definitely do not need information on inspection visits, complaint visits, and all of that. Let's trim our data. "
   ]
  },
  {
   "cell_type": "code",
   "execution_count": 15,
   "metadata": {},
   "outputs": [
    {
     "ename": "KeyError",
     "evalue": "\"['Facility City '] not in index\"",
     "output_type": "error",
     "traceback": [
      "\u001b[0;31m---------------------------------------------------------------------------\u001b[0m",
      "\u001b[0;31mKeyError\u001b[0m                                  Traceback (most recent call last)",
      "\u001b[0;32m<ipython-input-15-e11287602d06>\u001b[0m in \u001b[0;36m<module>\u001b[0;34m\u001b[0m\n\u001b[0;32m----> 1\u001b[0;31m \u001b[0mchildcare\u001b[0m\u001b[0;34m[\u001b[0m\u001b[0;34m[\u001b[0m\u001b[0;34m'Facility Type'\u001b[0m\u001b[0;34m,\u001b[0m \u001b[0;34m'Facility Number'\u001b[0m\u001b[0;34m,\u001b[0m \u001b[0;34m'Facility Name'\u001b[0m\u001b[0;34m,\u001b[0m \u001b[0;34m'Licensee'\u001b[0m\u001b[0;34m,\u001b[0m \u001b[0;34m'Facility Administrator'\u001b[0m\u001b[0;34m,\u001b[0m\u001b[0;34m'Facility Telephone Number'\u001b[0m\u001b[0;34m,\u001b[0m \u001b[0;34m'Facility Address'\u001b[0m\u001b[0;34m,\u001b[0m\u001b[0;34m'Facility City '\u001b[0m\u001b[0;34m,\u001b[0m\u001b[0;34m'Facility State'\u001b[0m\u001b[0;34m,\u001b[0m \u001b[0;34m'Facility Zip'\u001b[0m\u001b[0;34m,\u001b[0m \u001b[0;34m'County Name'\u001b[0m\u001b[0;34m,\u001b[0m\u001b[0;34m'Facility Capacity'\u001b[0m   \u001b[0;34m]\u001b[0m\u001b[0;34m]\u001b[0m\u001b[0;34m\u001b[0m\u001b[0;34m\u001b[0m\u001b[0m\n\u001b[0m",
      "\u001b[0;32m/opt/conda/lib/python3.8/site-packages/geopandas/geodataframe.py\u001b[0m in \u001b[0;36m__getitem__\u001b[0;34m(self, key)\u001b[0m\n\u001b[1;32m    826\u001b[0m         \u001b[0mGeoDataFrame\u001b[0m\u001b[0;34m.\u001b[0m\u001b[0;34m\u001b[0m\u001b[0;34m\u001b[0m\u001b[0m\n\u001b[1;32m    827\u001b[0m         \"\"\"\n\u001b[0;32m--> 828\u001b[0;31m         \u001b[0mresult\u001b[0m \u001b[0;34m=\u001b[0m \u001b[0msuper\u001b[0m\u001b[0;34m(\u001b[0m\u001b[0mGeoDataFrame\u001b[0m\u001b[0;34m,\u001b[0m \u001b[0mself\u001b[0m\u001b[0;34m)\u001b[0m\u001b[0;34m.\u001b[0m\u001b[0m__getitem__\u001b[0m\u001b[0;34m(\u001b[0m\u001b[0mkey\u001b[0m\u001b[0;34m)\u001b[0m\u001b[0;34m\u001b[0m\u001b[0;34m\u001b[0m\u001b[0m\n\u001b[0m\u001b[1;32m    829\u001b[0m         \u001b[0mgeo_col\u001b[0m \u001b[0;34m=\u001b[0m \u001b[0mself\u001b[0m\u001b[0;34m.\u001b[0m\u001b[0m_geometry_column_name\u001b[0m\u001b[0;34m\u001b[0m\u001b[0;34m\u001b[0m\u001b[0m\n\u001b[1;32m    830\u001b[0m         \u001b[0;32mif\u001b[0m \u001b[0misinstance\u001b[0m\u001b[0;34m(\u001b[0m\u001b[0mresult\u001b[0m\u001b[0;34m,\u001b[0m \u001b[0mSeries\u001b[0m\u001b[0;34m)\u001b[0m \u001b[0;32mand\u001b[0m \u001b[0misinstance\u001b[0m\u001b[0;34m(\u001b[0m\u001b[0mresult\u001b[0m\u001b[0;34m.\u001b[0m\u001b[0mdtype\u001b[0m\u001b[0;34m,\u001b[0m \u001b[0mGeometryDtype\u001b[0m\u001b[0;34m)\u001b[0m\u001b[0;34m:\u001b[0m\u001b[0;34m\u001b[0m\u001b[0;34m\u001b[0m\u001b[0m\n",
      "\u001b[0;32m/opt/conda/lib/python3.8/site-packages/pandas/core/frame.py\u001b[0m in \u001b[0;36m__getitem__\u001b[0;34m(self, key)\u001b[0m\n\u001b[1;32m   2804\u001b[0m             \u001b[0;32mif\u001b[0m \u001b[0mis_iterator\u001b[0m\u001b[0;34m(\u001b[0m\u001b[0mkey\u001b[0m\u001b[0;34m)\u001b[0m\u001b[0;34m:\u001b[0m\u001b[0;34m\u001b[0m\u001b[0;34m\u001b[0m\u001b[0m\n\u001b[1;32m   2805\u001b[0m                 \u001b[0mkey\u001b[0m \u001b[0;34m=\u001b[0m \u001b[0mlist\u001b[0m\u001b[0;34m(\u001b[0m\u001b[0mkey\u001b[0m\u001b[0;34m)\u001b[0m\u001b[0;34m\u001b[0m\u001b[0;34m\u001b[0m\u001b[0m\n\u001b[0;32m-> 2806\u001b[0;31m             \u001b[0mindexer\u001b[0m \u001b[0;34m=\u001b[0m \u001b[0mself\u001b[0m\u001b[0;34m.\u001b[0m\u001b[0mloc\u001b[0m\u001b[0;34m.\u001b[0m\u001b[0m_get_listlike_indexer\u001b[0m\u001b[0;34m(\u001b[0m\u001b[0mkey\u001b[0m\u001b[0;34m,\u001b[0m \u001b[0maxis\u001b[0m\u001b[0;34m=\u001b[0m\u001b[0;36m1\u001b[0m\u001b[0;34m,\u001b[0m \u001b[0mraise_missing\u001b[0m\u001b[0;34m=\u001b[0m\u001b[0;32mTrue\u001b[0m\u001b[0;34m)\u001b[0m\u001b[0;34m[\u001b[0m\u001b[0;36m1\u001b[0m\u001b[0;34m]\u001b[0m\u001b[0;34m\u001b[0m\u001b[0;34m\u001b[0m\u001b[0m\n\u001b[0m\u001b[1;32m   2807\u001b[0m \u001b[0;34m\u001b[0m\u001b[0m\n\u001b[1;32m   2808\u001b[0m         \u001b[0;31m# take() does not accept boolean indexers\u001b[0m\u001b[0;34m\u001b[0m\u001b[0;34m\u001b[0m\u001b[0;34m\u001b[0m\u001b[0m\n",
      "\u001b[0;32m/opt/conda/lib/python3.8/site-packages/pandas/core/indexing.py\u001b[0m in \u001b[0;36m_get_listlike_indexer\u001b[0;34m(self, key, axis, raise_missing)\u001b[0m\n\u001b[1;32m   1550\u001b[0m             \u001b[0mkeyarr\u001b[0m\u001b[0;34m,\u001b[0m \u001b[0mindexer\u001b[0m\u001b[0;34m,\u001b[0m \u001b[0mnew_indexer\u001b[0m \u001b[0;34m=\u001b[0m \u001b[0max\u001b[0m\u001b[0;34m.\u001b[0m\u001b[0m_reindex_non_unique\u001b[0m\u001b[0;34m(\u001b[0m\u001b[0mkeyarr\u001b[0m\u001b[0;34m)\u001b[0m\u001b[0;34m\u001b[0m\u001b[0;34m\u001b[0m\u001b[0m\n\u001b[1;32m   1551\u001b[0m \u001b[0;34m\u001b[0m\u001b[0m\n\u001b[0;32m-> 1552\u001b[0;31m         self._validate_read_indexer(\n\u001b[0m\u001b[1;32m   1553\u001b[0m             \u001b[0mkeyarr\u001b[0m\u001b[0;34m,\u001b[0m \u001b[0mindexer\u001b[0m\u001b[0;34m,\u001b[0m \u001b[0mo\u001b[0m\u001b[0;34m.\u001b[0m\u001b[0m_get_axis_number\u001b[0m\u001b[0;34m(\u001b[0m\u001b[0maxis\u001b[0m\u001b[0;34m)\u001b[0m\u001b[0;34m,\u001b[0m \u001b[0mraise_missing\u001b[0m\u001b[0;34m=\u001b[0m\u001b[0mraise_missing\u001b[0m\u001b[0;34m\u001b[0m\u001b[0;34m\u001b[0m\u001b[0m\n\u001b[1;32m   1554\u001b[0m         )\n",
      "\u001b[0;32m/opt/conda/lib/python3.8/site-packages/pandas/core/indexing.py\u001b[0m in \u001b[0;36m_validate_read_indexer\u001b[0;34m(self, key, indexer, axis, raise_missing)\u001b[0m\n\u001b[1;32m   1644\u001b[0m             \u001b[0;32mif\u001b[0m \u001b[0;32mnot\u001b[0m \u001b[0;34m(\u001b[0m\u001b[0mself\u001b[0m\u001b[0;34m.\u001b[0m\u001b[0mname\u001b[0m \u001b[0;34m==\u001b[0m \u001b[0;34m\"loc\"\u001b[0m \u001b[0;32mand\u001b[0m \u001b[0;32mnot\u001b[0m \u001b[0mraise_missing\u001b[0m\u001b[0;34m)\u001b[0m\u001b[0;34m:\u001b[0m\u001b[0;34m\u001b[0m\u001b[0;34m\u001b[0m\u001b[0m\n\u001b[1;32m   1645\u001b[0m                 \u001b[0mnot_found\u001b[0m \u001b[0;34m=\u001b[0m \u001b[0mlist\u001b[0m\u001b[0;34m(\u001b[0m\u001b[0mset\u001b[0m\u001b[0;34m(\u001b[0m\u001b[0mkey\u001b[0m\u001b[0;34m)\u001b[0m \u001b[0;34m-\u001b[0m \u001b[0mset\u001b[0m\u001b[0;34m(\u001b[0m\u001b[0max\u001b[0m\u001b[0;34m)\u001b[0m\u001b[0;34m)\u001b[0m\u001b[0;34m\u001b[0m\u001b[0;34m\u001b[0m\u001b[0m\n\u001b[0;32m-> 1646\u001b[0;31m                 \u001b[0;32mraise\u001b[0m \u001b[0mKeyError\u001b[0m\u001b[0;34m(\u001b[0m\u001b[0;34mf\"{not_found} not in index\"\u001b[0m\u001b[0;34m)\u001b[0m\u001b[0;34m\u001b[0m\u001b[0;34m\u001b[0m\u001b[0m\n\u001b[0m\u001b[1;32m   1647\u001b[0m \u001b[0;34m\u001b[0m\u001b[0m\n\u001b[1;32m   1648\u001b[0m             \u001b[0;31m# we skip the warning on Categorical/Interval\u001b[0m\u001b[0;34m\u001b[0m\u001b[0;34m\u001b[0m\u001b[0;34m\u001b[0m\u001b[0m\n",
      "\u001b[0;31mKeyError\u001b[0m: \"['Facility City '] not in index\""
     ]
    }
   ],
   "source": [
    "childcare[['Facility Type', 'Facility Number', 'Facility Name', 'Licensee', 'Facility Administrator','Facility Telephone Number', 'Facility Address','Facility City ','Facility State', 'Facility Zip', 'County Name','Facility Capacity'   ]]"
   ]
  },
  {
   "cell_type": "code",
   "execution_count": null,
   "metadata": {},
   "outputs": [],
   "source": []
  }
 ],
 "metadata": {
  "kernelspec": {
   "display_name": "Python 3",
   "language": "python",
   "name": "python3"
  },
  "language_info": {
   "codemirror_mode": {
    "name": "ipython",
    "version": 3
   },
   "file_extension": ".py",
   "mimetype": "text/x-python",
   "name": "python",
   "nbconvert_exporter": "python",
   "pygments_lexer": "ipython3",
   "version": "3.8.5"
  },
  "toc": {
   "base_numbering": 1,
   "nav_menu": {},
   "number_sections": true,
   "sideBar": true,
   "skip_h1_title": false,
   "title_cell": "Table of Contents",
   "title_sidebar": "Contents",
   "toc_cell": false,
   "toc_position": {},
   "toc_section_display": true,
   "toc_window_display": false
  }
 },
 "nbformat": 4,
 "nbformat_minor": 4
}
